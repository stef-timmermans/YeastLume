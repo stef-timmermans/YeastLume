{
 "cells": [
  {
   "cell_type": "code",
   "id": "2ba1c206-f2bf-4e97-8fe7-8e75dde03a67",
   "metadata": {},
   "source": [
    "import tifffile\n",
    "import numpy as np\n",
    "import matplotlib.pyplot as plt\n",
    "from skimage import exposure\n",
    "from skimage.util import img_as_ubyte\n",
    "from scipy.ndimage import gaussian_filter\n",
    "\n",
    "# Notebook-friendly plot display\n",
    "%matplotlib inline"
   ],
   "outputs": [],
   "execution_count": null
  },
  {
   "cell_type": "code",
   "id": "20b50cdd-463f-454f-b61f-a096a34a98a0",
   "metadata": {},
   "source": [
    "# Set your file path to singular .tif file\n",
    "tif_path = 'example-data/example.tif'\n",
    "# Use the nth frame for testing and select fluorescence channel\n",
    "frame_index = 0\n",
    "channel_index = 1\n",
    "\n",
    "# Load TIFF without modifying it\n",
    "with tifffile.TiffFile(tif_path) as tif:\n",
    "    arr = tif.asarray()\n",
    "\n",
    "# Handle multi-channel stack or single frame\n",
    "if arr.ndim == 4:\n",
    "    if arr.shape[1] <= 4:  # shape: (frames, channels, H, W)\n",
    "        fl_image = arr[frame_index, channel_index]\n",
    "    else:  # shape: (channels, frames, H, W)\n",
    "        fl_image = arr[channel_index, frame_index]\n",
    "elif arr.ndim == 3:\n",
    "    fl_image = arr\n",
    "else:\n",
    "    raise ValueError(\"Unexpected TIFF shape:\", arr.shape)\n",
    "\n",
    "plt.imshow(fl_image, cmap='gray')\n",
    "plt.axis('off')\n",
    "plt.show()"
   ],
   "outputs": [],
   "execution_count": null
  },
  {
   "cell_type": "code",
   "id": "e79e9400-f12d-4c98-8041-6697fef2db10",
   "metadata": {},
   "source": [
    "# Contrast stretch\n",
    "p_low, p_high = np.percentile(fl_image, (1, 99))\n",
    "contrast_stretched = exposure.rescale_intensity(fl_image, in_range=(p_low, p_high))\n",
    "\n",
    "# Denoise (Gaussian blur)\n",
    "denoised = gaussian_filter(contrast_stretched, sigma=1.0)\n",
    "\n",
    "# Normalize for colormap\n",
    "normalized = img_as_ubyte(denoised / np.max(denoised))\n",
    "\n",
    "plt.imshow(normalized)\n",
    "plt.axis('off')\n",
    "plt.show()"
   ],
   "outputs": [],
   "execution_count": null
  }
 ],
 "metadata": {
  "kernelspec": {
   "display_name": "Python 3 (ipykernel)",
   "language": "python",
   "name": "python3"
  },
  "language_info": {
   "codemirror_mode": {
    "name": "ipython",
    "version": 3
   },
   "file_extension": ".py",
   "mimetype": "text/x-python",
   "name": "python",
   "nbconvert_exporter": "python",
   "pygments_lexer": "ipython3",
   "version": "3.13.2"
  }
 },
 "nbformat": 4,
 "nbformat_minor": 5
}

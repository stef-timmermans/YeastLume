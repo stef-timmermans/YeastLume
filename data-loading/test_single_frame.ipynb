{
 "cells": [
  {
   "cell_type": "code",
   "execution_count": null,
   "id": "0",
   "metadata": {},
   "outputs": [],
   "source": [
    "import tifffile\n",
    "import numpy as np\n",
    "import matplotlib.pyplot as plt\n",
    "from skimage import exposure\n",
    "from skimage.util import img_as_ubyte\n",
    "from scipy.ndimage import gaussian_filter, median_filter\n",
    "from skimage.restoration import denoise_nl_means, estimate_sigma\n",
    "\n",
    "# Notebook-friendly plot display\n",
    "%matplotlib inline"
   ]
  },
  {
   "cell_type": "code",
   "execution_count": null,
   "id": "1",
   "metadata": {},
   "outputs": [],
   "source": [
    "# Set your file path to singular .tif file\n",
    "tif_path = 'example-data/example.tif'\n",
    "# Use the nth frame for testing and select fluorescence channel\n",
    "frame_index = 0\n",
    "channel_index = 1\n",
    "\n",
    "# Load TIFF without modifying it\n",
    "with tifffile.TiffFile(tif_path) as tif:\n",
    "    arr = tif.asarray()\n",
    "\n",
    "# Handle multi-channel stack or single frame\n",
    "if arr.ndim == 4:\n",
    "    if arr.shape[1] <= 4:  # shape: (frames, channels, H, W)\n",
    "        fl_image = arr[frame_index, channel_index]\n",
    "    else:  # shape: (channels, frames, H, W)\n",
    "        fl_image = arr[channel_index, frame_index]\n",
    "elif arr.ndim == 3:\n",
    "    fl_image = arr\n",
    "else:\n",
    "    raise ValueError(\"Unexpected TIFF shape:\", arr.shape)\n",
    "\n",
    "# Ensure 512x512\n",
    "h, w = fl_image.shape[-2:]\n",
    "if (h, w) != (512, 512):\n",
    "    raise ValueError(\n",
    "        f\"Expected a 512×512 frame, got {h}×{w}. \"\n",
    "        \"Either resize/crop or change the model configuration.\"\n",
    "    )\n",
    "\n",
    "plt.imshow(fl_image, cmap='gray')\n",
    "plt.axis('off')\n",
    "plt.show()"
   ]
  },
  {
   "cell_type": "code",
   "execution_count": null,
   "id": "2",
   "metadata": {},
   "outputs": [],
   "source": [
    "# Contrast stretch\n",
    "p_low, p_high = np.percentile(fl_image, (1, 99))\n",
    "contrast_stretched = exposure.rescale_intensity(fl_image, in_range=(p_low, p_high))\n",
    "\n",
    "# Denoise (Non-local Means, fixed h; for light salt-and-pepper trimming)\n",
    "denoised = denoise_nl_means(contrast_stretched, h=0.06, fast_mode=True)\n",
    "\n",
    "# Apply gaussian filter to help with boundaries\n",
    "denoised = gaussian_filter(denoised, sigma=1.0)\n",
    "\n",
    "# Normalize for display\n",
    "normalized = img_as_ubyte(denoised / np.max(denoised))\n",
    "\n",
    "plt.imshow(normalized)\n",
    "plt.axis('off')\n",
    "plt.show()"
   ]
  }
 ],
 "metadata": {
  "kernelspec": {
   "display_name": "Python 3 (ipykernel)",
   "language": "python",
   "name": "python3"
  },
  "language_info": {
   "codemirror_mode": {
    "name": "ipython",
    "version": 3
   },
   "file_extension": ".py",
   "mimetype": "text/x-python",
   "name": "python",
   "nbconvert_exporter": "python",
   "pygments_lexer": "ipython3",
   "version": "3.13.2"
  }
 },
 "nbformat": 4,
 "nbformat_minor": 5
}
